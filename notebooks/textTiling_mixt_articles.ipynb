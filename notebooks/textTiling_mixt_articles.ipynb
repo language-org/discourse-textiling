{
 "metadata": {
  "language_info": {
   "codemirror_mode": {
    "name": "ipython",
    "version": 3
   },
   "file_extension": ".py",
   "mimetype": "text/x-python",
   "name": "python",
   "nbconvert_exporter": "python",
   "pygments_lexer": "ipython3",
   "version": "3.6.12-final"
  },
  "orig_nbformat": 2,
  "kernelspec": {
   "name": "python_defaultSpec_1600706657064",
   "display_name": "Python 3.6.12 64-bit ('nlp_discourse': conda)"
  }
 },
 "nbformat": 4,
 "nbformat_minor": 2,
 "cells": [
  {
   "cell_type": "markdown",
   "metadata": {},
   "source": [
    "# textTiling a mixture of WIKI paragraphs"
   ]
  },
  {
   "cell_type": "markdown",
   "metadata": {},
   "source": [
    "* Test with mixture of wikipedia paragraphs from different topics: Life, Death, Purpose, Technology, Science "
   ]
  },
  {
   "cell_type": "code",
   "execution_count": 57,
   "metadata": {},
   "outputs": [],
   "source": [
    "# import libraries\n",
    "import nltk\n",
    "from nltk.corpus import brown\n",
    "from nltk.tokenize import TextTilingTokenizer \n",
    "import numpy as np\n",
    "import time"
   ]
  },
  {
   "cell_type": "markdown",
   "metadata": {},
   "source": [
    "* obs:\n",
    "    * `np-tl`: noun proper-title: means that it is a `proper noun` found in a `title` header"
   ]
  },
  {
   "cell_type": "code",
   "execution_count": 45,
   "metadata": {
    "tags": []
   },
   "outputs": [],
   "source": [
    "text_01 = \"Life is a characteristic that distinguishes physical entities that have biological processes, such as signaling and self-sustaining processes, from those that do not, either because such functions have ceased (they have died), or because they never had such functions and are classified as inanimate. Various forms of life exist, such as plants, animals, fungi, protists, archaea, and bacteria. Biology is the science concerned with the study of life.\\n\\n\"\n",
    "\n",
    "text_02 = \"Death is the permanent cessation of all biological functions that sustain a living organism.[1] The remains of a living organism begin to decompose shortly after death.[2] It is an inevitable process eventually occurring in all living organisms. As of the early 21st century, over 150,000 humans die each day.[3][4]. Many cultures and religions have the idea of an afterlife, and also hold the idea of judgement and reward for good deeds or punishment for sin.\\n\\n\"\n",
    "\n",
    "text_03 = \"Folk psychology explains human behavior on the basis of mental states, including beliefs, desires, and intentions.[2][3] Mental mechanisms, including intention, explain behavior in that individuals are seen as actors who have desires and who attempt to achieve goals that are directed by beliefs.[4] Thus, an intentional action is a function to accomplish a desired goal and is based on the belief that the course of action will satisfy a desire.\\n\\n\"\n",
    "\n",
    "text_04=\"Technology is the sum of techniques, skills, methods, and processes used in the production of goods or services or in the accomplishment of objectives, such as scientific investigation. Technology can be the knowledge of techniques, processes, and the like, or it can be embedded in machines to allow for operation without detailed knowledge of their workings. Systems (e.g. machines) applying technology by taking an input, changing it according to the system's use, and then producing an outcome are referred to as technology systems or technological systems.\\n\\n\"\n",
    "\n",
    "text_05 = \"The earliest roots of science can be traced to Ancient Egypt and Mesopotamia in around 3500 to 3000 BCE.[5][6] Their contributions to mathematics, astronomy, and medicine entered and shaped Greek natural philosophy of classical antiquity, whereby formal attempts were made to provide explanations of events in the physical world based on natural causes.[5][6] After the fall of the Western Roman Empire, knowledge of Greek conceptions of the world deteriorated in Western Europe during the early centuries (400 to 1000 CE) of the Middle Ages[7] but was preserved in the Muslim world during the Islamic Golden Age.[8] The recovery and assimilation of Greek works and Islamic inquiries into Western Europe from the 10th to 13th century revived natural philosophy,[7][9] which was later transformed by the Scientific Revolution that began in the 16th century[10] as new ideas and discoveries departed from previous Greek conceptions and traditions.\"\n",
    "\n",
    "\n",
    "text = text_01 + text_02 + text_03 + text_04 + text_05"
   ]
  },
  {
   "cell_type": "code",
   "execution_count": 46,
   "metadata": {
    "tags": []
   },
   "outputs": [
    {
     "output_type": "stream",
     "name": "stdout",
     "text": "Life is a characteristic that distinguishes physical entities that have biological processes, such as signaling and self-sustaining processes, from those that do not, either because such functions have ceased (they have died), or because they never had such functions and are classified as inanimate. Various forms of life exist, such as plants, animals, fungi, protists, archaea, and bacteria. Biology is the science concerned with the study of life.\n\nDeath is the permanent cessation of all biological functions that sustain a living organism.[1] The remains of a living organism begin to decompose shortly after death.[2] It is an inevitable process eventually occurring in all living organisms. As of the early 21st century, over 150,000 humans die each day.[3][4]. Many cultures and religions have the idea of an afterlife, and also hold the idea of judgement and reward for good deeds or punishment for sin.\n\nFolk psychology explains human behavior on the basis of mental states, including beliefs, desires, and intentions.[2][3] Mental mechanisms, including intention, explain behavior in that individuals are seen as actors who have desires and who attempt to achieve goals that are directed by beliefs.[4] Thus, an intentional action is a function to accomplish a desired goal and is based on the belief that the course of action will satisfy a desire.\n\nTechnology is the sum of techniques, skills, methods, and processes used in the production of goods or services or in the accomplishment of objectives, such as scientific investigation. Technology can be the knowledge of techniques, processes, and the like, or it can be embedded in machines to allow for operation without detailed knowledge of their workings. Systems (e.g. machines) applying technology by taking an input, changing it according to the system's use, and then producing an outcome are referred to as technology systems or technological systems.\n\nThe earliest roots of science can be traced to Ancient Egypt and Mesopotamia in around 3500 to 3000 BCE.[5][6] Their contributions to mathematics, astronomy, and medicine entered and shaped Greek natural philosophy of classical antiquity, whereby formal attempts were made to provide explanations of events in the physical world based on natural causes.[5][6] After the fall of the Western Roman Empire, knowledge of Greek conceptions of the world deteriorated in Western Europe during the early centuries (400 to 1000 CE) of the Middle Ages[7] but was preserved in the Muslim world during the Islamic Golden Age.[8] The recovery and assimilation of Greek works and Islamic inquiries into Western Europe from the 10th to 13th century revived natural philosophy,[7][9] which was later transformed by the Scientific Revolution that began in the 16th century[10] as new ideas and discoveries departed from previous Greek conceptions and traditions.\n"
    }
   ],
   "source": [
    "# display formatted text\n",
    "print(text)"
   ]
  },
  {
   "cell_type": "code",
   "execution_count": 47,
   "metadata": {},
   "outputs": [],
   "source": [
    "# instantiate \"textTiling\" model  \n",
    "NB_WORDS_IN_PSEUDOSENT = 20  # number of words of a pseudo-sentence\n",
    "NB_PSEUDOSENT_IN_BLOCKS = 10 # number of pseudo-sentences in a block  \n",
    "BLOCK_COMPARISON = 0         # activate block comparison method\n",
    "DEMO_MODE = False \n",
    "tt = TextTilingTokenizer(w=NB_WORDS_IN_PSEUDOSENT, k=NB_PSEUDOSENT_IN_BLOCKS, similarity_method=BLOCK_COMPARISON, demo_mode=DEMO_MODE) "
   ]
  },
  {
   "cell_type": "code",
   "execution_count": 48,
   "metadata": {},
   "outputs": [],
   "source": [
    "Segmented_text = tt.tokenize(text)"
   ]
  },
  {
   "cell_type": "code",
   "execution_count": 49,
   "metadata": {
    "tags": []
   },
   "outputs": [
    {
     "output_type": "stream",
     "name": "stdout",
     "text": "\n 1 ==================\nLife is a characteristic that distinguishes physical entities that have biological processes, such as signaling and self-sustaining processes, from those that do not, either because such functions have ceased (they have died), or because they never had such functions and are classified as inanimate. Various forms of life exist, such as plants, animals, fungi, protists, archaea, and bacteria. Biology is the science concerned with the study of life.\n\n 2 ==================\n\n\nDeath is the permanent cessation of all biological functions that sustain a living organism.[1] The remains of a living organism begin to decompose shortly after death.[2] It is an inevitable process eventually occurring in all living organisms. As of the early 21st century, over 150,000 humans die each day.[3][4]. Many cultures and religions have the idea of an afterlife, and also hold the idea of judgement and reward for good deeds or punishment for sin.\n\nFolk psychology explains human behavior on the basis of mental states, including beliefs, desires, and intentions.[2][3] Mental mechanisms, including intention, explain behavior in that individuals are seen as actors who have desires and who attempt to achieve goals that are directed by beliefs.[4] Thus, an intentional action is a function to accomplish a desired goal and is based on the belief that the course of action will satisfy a desire.\n\n 3 ==================\n\n\nTechnology is the sum of techniques, skills, methods, and processes used in the production of goods or services or in the accomplishment of objectives, such as scientific investigation. Technology can be the knowledge of techniques, processes, and the like, or it can be embedded in machines to allow for operation without detailed knowledge of their workings. Systems (e.g. machines) applying technology by taking an input, changing it according to the system's use, and then producing an outcome are referred to as technology systems or technological systems.\n\n 4 ==================\n\n\nThe earliest roots of science can be traced to Ancient Egypt and Mesopotamia in around 3500 to 3000 BCE.[5][6] Their contributions to mathematics, astronomy, and medicine entered and shaped Greek natural philosophy of classical antiquity, whereby formal attempts were made to provide explanations of events in the physical world based on natural causes.[5][6] After the fall of the Western Roman Empire, knowledge of Greek conceptions of the world deteriorated in Western Europe during the early centuries (400 to 1000 CE) of the Middle Ages[7] but was preserved in the Muslim world during the Islamic Golden Age.[8] The recovery and assimilation of Greek works and Islamic inquiries into Western Europe from the 10th to 13th century revived natural philosophy,[7][9] which was later transformed by the Scientific Revolution that began in the 16th century[10] as new ideas and discoveries departed from previous Greek conceptions and traditions.\n"
    }
   ],
   "source": [
    "# Display topic segmented text\n",
    "Segmented_text = tt.tokenize(text)\n",
    "for segment_id, segment in enumerate(Segmented_text):\n",
    "    print(\"\\n\", segment_id+1, \"==================\")\n",
    "    print(segment)"
   ]
  },
  {
   "cell_type": "code",
   "execution_count": 50,
   "metadata": {},
   "outputs": [],
   "source": [
    "# Get model's scores & boundaries \n",
    "DEMO_MODE = True \n",
    "tt_demo = TextTilingTokenizer(w=NB_WORDS_IN_PSEUDOSENT, k=NB_PSEUDOSENT_IN_BLOCKS, similarity_method=BLOCK_COMPARISON, demo_mode=DEMO_MODE) "
   ]
  },
  {
   "cell_type": "code",
   "execution_count": 51,
   "metadata": {
    "tags": []
   },
   "outputs": [
    {
     "output_type": "stream",
     "name": "stdout",
     "text": "(textTiling duration) 0.038736820220947266 sec\n"
    }
   ],
   "source": [
    "# apply to text  \n",
    "tic = time.time()\n",
    "a,b,c,boundaries = tt_demo.tokenize(text)\n",
    "toc = time.time()\n",
    "print('(textTiling duration)', toc-tic,'sec')"
   ]
  },
  {
   "cell_type": "markdown",
   "metadata": {},
   "source": []
  },
  {
   "cell_type": "code",
   "execution_count": 52,
   "metadata": {
    "tags": []
   },
   "outputs": [
    {
     "output_type": "stream",
     "name": "stdout",
     "text": "[0, 0, 0, 0, 1, 0, 0, 0, 0, 1, 0, 0, 0, 0, 1, 0, 0, 0, 1, 0, 0]\n"
    }
   ],
   "source": [
    "# display segmented topic block boundaries\n",
    "print(boundaries)"
   ]
  },
  {
   "cell_type": "markdown",
   "metadata": {},
   "source": [
    "# Explain"
   ]
  },
  {
   "cell_type": "markdown",
   "metadata": {},
   "source": [
    "* The text is divided into blocks of `k` same-size pseudo-sentences (`w` words each).\n",
    "> Example: A text sample of `n`=1,000 characters is divided into `5` (`n`/`k`*`w`) blocks of `k`=10 pseudosentences \\* `w`=20 words "
   ]
  },
  {
   "cell_type": "code",
   "execution_count": 53,
   "metadata": {
    "tags": []
   },
   "outputs": [
    {
     "output_type": "stream",
     "name": "stdout",
     "text": "Nb of pseudo-sentences: 24\n\n [('Life', 0), ('is', 5), ('a', 8), ('characteristic', 10), ('that', 25), ('distinguishes', 30), ('physical', 44), ('entities', 53), ('that', 62), ('have', 67), ('biological', 72), ('processes', 83), ('such', 94), ('as', 99), ('signaling', 102), ('and', 112), ('self', 116), ('sustaining', 121), ('processes', 132), ('from', 143)]\nNb of words (w): 20\n\n [('those', 148), ('that', 154), ('do', 159), ('not', 162), ('either', 167), ('because', 174), ('such', 182), ('functions', 187), ('have', 197), ('ceased', 202), ('they', 210), ('have', 215), ('died', 220), ('or', 227), ('because', 230), ('they', 238), ('never', 243), ('had', 249), ('such', 253), ('functions', 258)]\nNb of words (w): 20\n\n....\n\n[('conceptions', 2844), ('and', 2856), ('traditions', 2860)]\nNb of words (w): 3\n"
    }
   ],
   "source": [
    "# Display examples pseudo-sentences  \n",
    "print(\"Nb of pseudo-sentences:\", len(tt._divide_to_tokensequences(text)))\n",
    "print(\"\\n\", tt._divide_to_tokensequences(text)[0].wrdindex_list)\n",
    "print(\"Nb of words (w):\",len(tt._divide_to_tokensequences(text)[0].wrdindex_list))\n",
    "print(\"\\n\", tt._divide_to_tokensequences(text)[1].wrdindex_list)\n",
    "print(\"Nb of words (w):\", len(tt._divide_to_tokensequences(text)[1].wrdindex_list))\n",
    "print(\"\\n....\\n\")\n",
    "print(tt._divide_to_tokensequences(text)[-1].wrdindex_list)\n",
    "print(\"Nb of words (w):\", len(tt._divide_to_tokensequences(text)[-1].wrdindex_list))"
   ]
  },
  {
   "cell_type": "code",
   "execution_count": 54,
   "metadata": {
    "tags": []
   },
   "outputs": [
    {
     "output_type": "stream",
     "name": "stdout",
     "text": "\n 0 [('Life', 0), ('is', 5), ('a', 8), ('characteristic', 10), ('that', 25), ('distinguishes', 30), ('physical', 44), ('entities', 53), ('that', 62), ('have', 67), ('biological', 72), ('processes', 83), ('such', 94), ('as', 99), ('signaling', 102), ('and', 112), ('self', 116), ('sustaining', 121), ('processes', 132), ('from', 143)]\n\n 1 [('those', 148), ('that', 154), ('do', 159), ('not', 162), ('either', 167), ('because', 174), ('such', 182), ('functions', 187), ('have', 197), ('ceased', 202), ('they', 210), ('have', 215), ('died', 220), ('or', 227), ('because', 230), ('they', 238), ('never', 243), ('had', 249), ('such', 253), ('functions', 258)]\n\n 2 [('and', 268), ('are', 272), ('classified', 276), ('as', 287), ('inanimate', 290), ('Various', 301), ('forms', 309), ('of', 315), ('life', 318), ('exist', 323), ('such', 330), ('as', 335), ('plants', 338), ('animals', 346), ('fungi', 355), ('protists', 362), ('archaea', 372), ('and', 381), ('bacteria', 385), ('Biology', 395)]\n\n 3 [('is', 403), ('the', 406), ('science', 410), ('concerned', 418), ('with', 428), ('the', 433), ('study', 437), ('of', 443), ('life', 446), ('Death', 453), ('is', 459), ('the', 462), ('permanent', 466), ('cessation', 476), ('of', 486), ('all', 489), ('biological', 493), ('functions', 504), ('that', 514), ('sustain', 519)]\n\n 4 [('a', 527), ('living', 529), ('organism', 536), ('1', 546), ('The', 549), ('remains', 553), ('of', 561), ('a', 564), ('living', 566), ('organism', 573), ('begin', 582), ('to', 588), ('decompose', 591), ('shortly', 601), ('after', 609), ('death', 615), ('2', 622), ('It', 625), ('is', 628), ('an', 631)]\n\n 5 [('inevitable', 634), ('process', 645), ('eventually', 653), ('occurring', 664), ('in', 674), ('all', 677), ('living', 681), ('organisms', 688), ('As', 699), ('of', 702), ('the', 705), ('early', 709), ('21st', 715), ('century', 720), ('over', 729), ('150', 734), ('000', 738), ('humans', 742), ('die', 749), ('each', 753)]\n\n 6 [('day', 758), ('3', 763), ('4', 766), ('Many', 770), ('cultures', 775), ('and', 784), ('religions', 788), ('have', 798), ('the', 803), ('idea', 807), ('of', 812), ('an', 815), ('afterlife', 818), ('and', 829), ('also', 833), ('hold', 838), ('the', 843), ('idea', 847), ('of', 852), ('judgement', 855)]\n\n 7 [('and', 865), ('reward', 869), ('for', 876), ('good', 880), ('deeds', 885), ('or', 891), ('punishment', 894), ('for', 905), ('sin', 909), ('Folk', 915), ('psychology', 920), ('explains', 931), ('human', 940), ('behavior', 946), ('on', 955), ('the', 958), ('basis', 962), ('of', 968), ('mental', 971), ('states', 978)]\n\n 8 [('including', 986), ('beliefs', 996), ('desires', 1005), ('and', 1014), ('intentions', 1018), ('2', 1030), ('3', 1033), ('Mental', 1036), ('mechanisms', 1043), ('including', 1055), ('intention', 1065), ('explain', 1076), ('behavior', 1084), ('in', 1093), ('that', 1096), ('individuals', 1101), ('are', 1113), ('seen', 1117), ('as', 1122), ('actors', 1125)]\n\n 9 [('who', 1132), ('have', 1136), ('desires', 1141), ('and', 1149), ('who', 1153), ('attempt', 1157), ('to', 1165), ('achieve', 1168), ('goals', 1176), ('that', 1182), ('are', 1187), ('directed', 1191), ('by', 1200), ('beliefs', 1203), ('4', 1212), ('Thus', 1215), ('an', 1221), ('intentional', 1224), ('action', 1236), ('is', 1243)]\n"
    },
    {
     "output_type": "execute_result",
     "data": {
      "text/plain": "[None, None, None, None, None, None, None, None, None, None]"
     },
     "metadata": {},
     "execution_count": 54
    }
   ],
   "source": [
    "# Display example of first block  \n",
    "first_block = tt._divide_to_tokensequences(text)[:NB_PSEUDOSENT_IN_BLOCKS]\n",
    "[print('\\n',ix, block.wrdindex_list) for ix,block in enumerate(first_block)]"
   ]
  },
  {
   "cell_type": "code",
   "execution_count": 55,
   "metadata": {
    "tags": []
   },
   "outputs": [
    {
     "output_type": "stream",
     "name": "stdout",
     "text": "\n 0 [('Life', 0), ('is', 5), ('a', 8), ('characteristic', 10), ('that', 25), ('distinguishes', 30), ('physical', 44), ('entities', 53), ('that', 62), ('have', 67), ('biological', 72), ('processes', 83), ('such', 94), ('as', 99), ('signaling', 102), ('and', 112), ('self', 116), ('sustaining', 121), ('processes', 132), ('from', 143)]\n\n 1 [('those', 148), ('that', 154), ('do', 159), ('not', 162), ('either', 167), ('because', 174), ('such', 182), ('functions', 187), ('have', 197), ('ceased', 202), ('they', 210), ('have', 215), ('died', 220), ('or', 227), ('because', 230), ('they', 238), ('never', 243), ('had', 249), ('such', 253), ('functions', 258)]\n\n 2 [('and', 268), ('are', 272), ('classified', 276), ('as', 287), ('inanimate', 290), ('Various', 301), ('forms', 309), ('of', 315), ('life', 318), ('exist', 323), ('such', 330), ('as', 335), ('plants', 338), ('animals', 346), ('fungi', 355), ('protists', 362), ('archaea', 372), ('and', 381), ('bacteria', 385), ('Biology', 395)]\n\n 3 [('is', 403), ('the', 406), ('science', 410), ('concerned', 418), ('with', 428), ('the', 433), ('study', 437), ('of', 443), ('life', 446), ('Death', 453), ('is', 459), ('the', 462), ('permanent', 466), ('cessation', 476), ('of', 486), ('all', 489), ('biological', 493), ('functions', 504), ('that', 514), ('sustain', 519)]\n\n 4 [('a', 527), ('living', 529), ('organism', 536), ('1', 546), ('The', 549), ('remains', 553), ('of', 561), ('a', 564), ('living', 566), ('organism', 573), ('begin', 582), ('to', 588), ('decompose', 591), ('shortly', 601), ('after', 609), ('death', 615), ('2', 622), ('It', 625), ('is', 628), ('an', 631)]\n\n 5 [('inevitable', 634), ('process', 645), ('eventually', 653), ('occurring', 664), ('in', 674), ('all', 677), ('living', 681), ('organisms', 688), ('As', 699), ('of', 702), ('the', 705), ('early', 709), ('21st', 715), ('century', 720), ('over', 729), ('150', 734), ('000', 738), ('humans', 742), ('die', 749), ('each', 753)]\n\n 6 [('day', 758), ('3', 763), ('4', 766), ('Many', 770), ('cultures', 775), ('and', 784), ('religions', 788), ('have', 798), ('the', 803), ('idea', 807), ('of', 812), ('an', 815), ('afterlife', 818), ('and', 829), ('also', 833), ('hold', 838), ('the', 843), ('idea', 847), ('of', 852), ('judgement', 855)]\n\n 7 [('and', 865), ('reward', 869), ('for', 876), ('good', 880), ('deeds', 885), ('or', 891), ('punishment', 894), ('for', 905), ('sin', 909), ('Folk', 915), ('psychology', 920), ('explains', 931), ('human', 940), ('behavior', 946), ('on', 955), ('the', 958), ('basis', 962), ('of', 968), ('mental', 971), ('states', 978)]\n\n 8 [('including', 986), ('beliefs', 996), ('desires', 1005), ('and', 1014), ('intentions', 1018), ('2', 1030), ('3', 1033), ('Mental', 1036), ('mechanisms', 1043), ('including', 1055), ('intention', 1065), ('explain', 1076), ('behavior', 1084), ('in', 1093), ('that', 1096), ('individuals', 1101), ('are', 1113), ('seen', 1117), ('as', 1122), ('actors', 1125)]\n\n 9 [('who', 1132), ('have', 1136), ('desires', 1141), ('and', 1149), ('who', 1153), ('attempt', 1157), ('to', 1165), ('achieve', 1168), ('goals', 1176), ('that', 1182), ('are', 1187), ('directed', 1191), ('by', 1200), ('beliefs', 1203), ('4', 1212), ('Thus', 1215), ('an', 1221), ('intentional', 1224), ('action', 1236), ('is', 1243)]\n"
    },
    {
     "output_type": "execute_result",
     "data": {
      "text/plain": "[None, None, None, None, None, None, None, None, None, None]"
     },
     "metadata": {},
     "execution_count": 55
    }
   ],
   "source": [
    "# Display example of first block    \n",
    "first_block = tt._divide_to_tokensequences(text)[:NB_PSEUDOSENT_IN_BLOCKS]\n",
    "[print('\\n',ix, block.wrdindex_list) for ix,block in enumerate(first_block)]"
   ]
  },
  {
   "cell_type": "markdown",
   "metadata": {},
   "source": [
    "## References\n",
    "https://www.nltk.org/book/ch05.html    \n",
    "    see 2.7 Unsimplified Tags  \n",
    "https://www.cl.cam.ac.uk/teaching/1011/L104/lec10-2x2.pdf  "
   ]
  },
  {
   "cell_type": "code",
   "execution_count": null,
   "metadata": {},
   "outputs": [],
   "source": []
  }
 ]
}