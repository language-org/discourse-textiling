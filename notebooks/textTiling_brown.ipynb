{
 "metadata": {
  "language_info": {
   "codemirror_mode": {
    "name": "ipython",
    "version": 3
   },
   "file_extension": ".py",
   "mimetype": "text/x-python",
   "name": "python",
   "nbconvert_exporter": "python",
   "pygments_lexer": "ipython3",
   "version": "3.6.12-final"
  },
  "orig_nbformat": 2,
  "kernelspec": {
   "name": "python_defaultSpec_1600698786279",
   "display_name": "Python 3.6.12 64-bit ('nlp_discourse': conda)"
  }
 },
 "nbformat": 4,
 "nbformat_minor": 2,
 "cells": [
  {
   "cell_type": "markdown",
   "metadata": {},
   "source": [
    "# textTiling"
   ]
  },
  {
   "cell_type": "markdown",
   "metadata": {},
   "source": [
    "* Principle:      \n",
    "  1. TextTiling makes use of patterns of lexical co-occurrence and distribution.   \n",
    "* Algorithm:    \n",
    "  1. Tokenization: the algorithm has three parts: tokenization into terms and sentence-sized units   \n",
    "  2. Lexical score: determination of a score for each sentence-sized unit,   \n",
    "  3. Boundary identification: and detection of the subtopic boundaries, which are assumed to occur at the largest valleys in the graph that results from plotting sentence-units against scores.   \n",
    "\n",
    "* Workload from scratch\n",
    "    * paper + code: 1 day\n",
    "    \n",
    "* Cons:  \n",
    "  * poorly documented "
   ]
  },
  {
   "cell_type": "code",
   "execution_count": 1,
   "metadata": {},
   "outputs": [],
   "source": [
    "# import libraries\n",
    "import nltk\n",
    "from nltk.corpus import brown\n",
    "from nltk.tokenize import TextTilingTokenizer \n",
    "import numpy as np\n",
    "import time"
   ]
  },
  {
   "cell_type": "markdown",
   "metadata": {},
   "source": [
    "* obs:\n",
    "    * `np-tl`: noun proper-title: means that it is a `proper noun` found in a `title` header"
   ]
  },
  {
   "cell_type": "code",
   "execution_count": 2,
   "metadata": {
    "tags": []
   },
   "outputs": [
    {
     "output_type": "stream",
     "name": "stderr",
     "text": "[nltk_data] Downloading package brown to\n[nltk_data]     /Users/steeve_laquitaine/nltk_data...\n[nltk_data]   Package brown is already up-to-date!\n"
    },
    {
     "output_type": "execute_result",
     "data": {
      "text/plain": "True"
     },
     "metadata": {},
     "execution_count": 2
    }
   ],
   "source": [
    "# install Brown dataset\n",
    "nltk.download('brown')"
   ]
  },
  {
   "cell_type": "code",
   "execution_count": 3,
   "metadata": {},
   "outputs": [],
   "source": [
    "# extract sample\n",
    "NB_CHARS_IN_SAMPLE=4000\n",
    "text = brown.raw()[:NB_CHARS_IN_SAMPLE]"
   ]
  },
  {
   "cell_type": "code",
   "execution_count": 4,
   "metadata": {
    "tags": []
   },
   "outputs": [
    {
     "output_type": "stream",
     "name": "stdout",
     "text": "True\n"
    }
   ],
   "source": [
    "# preview text\n",
    "text\n",
    "print(len(text)==NB_CHARS_IN_SAMPLE) # unit test"
   ]
  },
  {
   "cell_type": "code",
   "execution_count": 5,
   "metadata": {
    "tags": []
   },
   "outputs": [
    {
     "output_type": "stream",
     "name": "stdout",
     "text": "\n\n\tThe/at Fulton/np-tl County/nn-tl Grand/jj-tl Jury/nn-tl said/vbd Friday/nr an/at investigation/nn of/in Atlanta's/np$ recent/jj primary/nn election/nn produced/vbd ``/`` no/at evidence/nn ''/'' that/cs any/dti irregularities/nns took/vbd place/nn ./.\n\n\n\tThe/at jury/nn further/rbr said/vbd in/in term-end/nn presentments/nns that/cs the/at City/nn-tl Executive/jj-tl Committee/nn-tl ,/, which/wdt had/hvd over-all/jj charge/nn of/in the/at election/nn ,/, ``/`` deserves/vbz the/at praise/nn and/cc thanks/nns of/in the/at City/nn-tl of/in-tl Atlanta/np-tl ''/'' for/in the/at manner/nn in/in which/wdt the/at election/nn was/bedz conducted/vbn ./.\n\n\n\tThe/at September-October/np term/nn jury/nn had/hvd been/ben charged/vbn by/in Fulton/np-tl Superior/jj-tl Court/nn-tl Judge/nn-tl Durwood/np Pye/np to/to investigate/vb reports/nns of/in possible/jj ``/`` irregularities/nns ''/'' in/in the/at hard-fought/jj primary/nn which/wdt was/bedz won/vbn by/in Mayor-nominate/nn-tl Ivan/np Allen/np Jr./np ./.\n\n\n\t``/`` Only/rb a/at relative/jj handful/nn of/in such/jj reports/nns was/bedz received/vbn ''/'' ,/, the/at jury/nn said/vbd ,/, ``/`` considering/in the/at widespread/jj interest/nn in/in the/at election/nn ,/, the/at number/nn of/in voters/nns and/cc the/at size/nn of/in this/dt city/nn ''/'' ./.\n\n\n\tThe/at jury/nn said/vbd it/pps did/dod find/vb that/cs many/ap of/in Georgia's/np$ registration/nn and/cc election/nn laws/nns ``/`` are/ber outmoded/jj or/cc inadequate/jj and/cc often/rb ambiguous/jj ''/'' ./.\n\n\n\tIt/pps recommended/vbd that/cs Fulton/np legislators/nns act/vb ``/`` to/to have/hv these/dts laws/nns studied/vbn and/cc revised/vbn to/in the/at end/nn of/in modernizing/vbg and/cc improving/vbg them/ppo ''/'' ./.\n\n\n\tThe/at grand/jj jury/nn commented/vbd on/in a/at number/nn of/in other/ap topics/nns ,/, among/in them/ppo the/at Atlanta/np and/cc Fulton/np-tl County/nn-tl purchasing/vbg departments/nns which/wdt it/pps said/vbd ``/`` are/ber well/ql operated/vbn and/cc follow/vb generally/rb accepted/vbn practices/nns which/wdt inure/vb to/in the/at best/jjt interest/nn of/in both/abx governments/nns ''/'' ./.\n\n\n\nMerger/nn-hl proposed/vbn-hl \nHowever/wrb ,/, the/at jury/nn said/vbd it/pps believes/vbz ``/`` these/dts two/cd offices/nns should/md be/be combined/vbn to/to achieve/vb greater/jjr efficiency/nn and/cc reduce/vb the/at cost/nn of/in administration/nn ''/'' ./.\n\n\n\tThe/at City/nn-tl Purchasing/vbg-tl Department/nn-tl ,/, the/at jury/nn said/vbd ,/, ``/`` is/bez lacking/vbg in/in experienced/vbn clerical/jj personnel/nns as/cs a/at result/nn of/in city/nn personnel/nns policies/nns ''/'' ./.\nIt/pps urged/vbd that/cs the/at city/nn ``/`` take/vb steps/nns to/to remedy/vb ''/'' this/dt problem/nn ./.\n\n\n\tImplementation/nn of/in Georgia's/np$ automobile/nn title/nn law/nn was/bedz also/rb recommended/vbn by/in the/at outgoing/jj jury/nn ./.\n\n\n\tIt/pps urged/vbd that/cs the/at next/ap Legislature/nn-tl ``/`` provide/vb enabling/vbg funds/nns and/cc re-set/vb the/at effective/jj date/nn so/cs that/cs an/at orderly/jj implementation/nn of/in the/at law/nn may/md be/be effected/vbn ''/'' ./.\n\n\n\tThe/at grand/jj jury/nn took/vbd a/at swipe/nn at/in the/at State/nn-tl Welfare/nn-tl Department's/nn$-tl handling/nn of/in federal/jj funds/nns granted/vbn for/in child/nn welfare/nn services/nns in/in foster/jj homes/nns ./.\n\n\n\t``/`` This/dt is/bez one/cd of/in the/at major/jj items/nns in/in the/at Fulton/np-tl County/nn-tl general/jj assistance/nn program/nn ''/'' ,/, the/at jury/nn said/vbd ,/, but/cc the/at State/nn-tl Welfare/nn-tl Department/nn-tl ``/`` has/hvz seen/vbn fit/jj to/to distribute/vb these/dts funds/nns through/in the/at welfare/nn departments/nns of/in all/abn the/at counties/nns in/in the/at state/nn with/in the/at exception/nn of/in Fulton/np-tl County/nn-tl ,/, which/wdt receives/vbz none/pn of/in this/dt money/nn ./.\n\n\n\tThe/at jurors/nns said/vbd they/ppss realize/vb ``/`` a/at proportionate/jj distribution/nn of\n"
    }
   ],
   "source": [
    "# display formatted text\n",
    "print(text)"
   ]
  },
  {
   "cell_type": "code",
   "execution_count": 19,
   "metadata": {},
   "outputs": [],
   "source": [
    "# instantiate \"textTiling\" model  \n",
    "NB_WORDS_IN_PSEUDOSENT = 20  # number of words of a pseudo-sentence\n",
    "NB_PSEUDOSENT_IN_BLOCKS = 10 # number of pseudo-sentences in a block  \n",
    "BLOCK_COMPARISON = 0         # activate block comparison method\n",
    "DEMO_MODE = False \n",
    "tt = TextTilingTokenizer(w=NB_WORDS_IN_PSEUDOSENT, k=NB_PSEUDOSENT_IN_BLOCKS, similarity_method=BLOCK_COMPARISON, demo_mode=DEMO_MODE) "
   ]
  },
  {
   "cell_type": "code",
   "execution_count": 30,
   "metadata": {
    "tags": []
   },
   "outputs": [
    {
     "output_type": "stream",
     "name": "stdout",
     "text": "\n 1 ==================\n\n\n\tThe/at Fulton/np-tl County/nn-tl Grand/jj-tl Jury/nn-tl said/vbd Friday/nr an/at investigation/nn of/in Atlanta's/np$ recent/jj primary/nn election/nn produced/vbd ``/`` no/at evidence/nn ''/'' that/cs any/dti irregularities/nns took/vbd place/nn ./.\n\n\n\tThe/at jury/nn further/rbr said/vbd in/in term-end/nn presentments/nns that/cs the/at City/nn-tl Executive/jj-tl Committee/nn-tl ,/, which/wdt had/hvd over-all/jj charge/nn of/in the/at election/nn ,/, ``/`` deserves/vbz the/at praise/nn and/cc thanks/nns of/in the/at City/nn-tl of/in-tl Atlanta/np-tl ''/'' for/in the/at manner/nn in/in which/wdt the/at election/nn was/bedz conducted/vbn ./.\n\n\n\tThe/at September-October/np term/nn jury/nn had/hvd been/ben charged/vbn by/in Fulton/np-tl Superior/jj-tl Court/nn-tl Judge/nn-tl Durwood/np Pye/np to/to investigate/vb reports/nns of/in possible/jj ``/`` irregularities/nns ''/'' in/in the/at hard-fought/jj primary/nn which/wdt was/bedz won/vbn by/in Mayor-nominate/nn-tl Ivan/np Allen/np Jr./np ./.\n\n 2 ==================\n\n\n\n\t``/`` Only/rb a/at relative/jj handful/nn of/in such/jj reports/nns was/bedz received/vbn ''/'' ,/, the/at jury/nn said/vbd ,/, ``/`` considering/in the/at widespread/jj interest/nn in/in the/at election/nn ,/, the/at number/nn of/in voters/nns and/cc the/at size/nn of/in this/dt city/nn ''/'' ./.\n\n\n\tThe/at jury/nn said/vbd it/pps did/dod find/vb that/cs many/ap of/in Georgia's/np$ registration/nn and/cc election/nn laws/nns ``/`` are/ber outmoded/jj or/cc inadequate/jj and/cc often/rb ambiguous/jj ''/'' ./.\n\n\n\tIt/pps recommended/vbd that/cs Fulton/np legislators/nns act/vb ``/`` to/to have/hv these/dts laws/nns studied/vbn and/cc revised/vbn to/in the/at end/nn of/in modernizing/vbg and/cc improving/vbg them/ppo ''/'' ./.\n\n\n\tThe/at grand/jj jury/nn commented/vbd on/in a/at number/nn of/in other/ap topics/nns ,/, among/in them/ppo the/at Atlanta/np and/cc Fulton/np-tl County/nn-tl purchasing/vbg departments/nns which/wdt it/pps said/vbd ``/`` are/ber well/ql operated/vbn and/cc follow/vb generally/rb accepted/vbn practices/nns which/wdt inure/vb to/in the/at best/jjt interest/nn of/in both/abx governments/nns ''/'' ./.\n\n 3 ==================\n\n\n\n\nMerger/nn-hl proposed/vbn-hl \nHowever/wrb ,/, the/at jury/nn said/vbd it/pps believes/vbz ``/`` these/dts two/cd offices/nns should/md be/be combined/vbn to/to achieve/vb greater/jjr efficiency/nn and/cc reduce/vb the/at cost/nn of/in administration/nn ''/'' ./.\n\n\n\tThe/at City/nn-tl Purchasing/vbg-tl Department/nn-tl ,/, the/at jury/nn said/vbd ,/, ``/`` is/bez lacking/vbg in/in experienced/vbn clerical/jj personnel/nns as/cs a/at result/nn of/in city/nn personnel/nns policies/nns ''/'' ./.\nIt/pps urged/vbd that/cs the/at city/nn ``/`` take/vb steps/nns to/to remedy/vb ''/'' this/dt problem/nn ./.\n\n\n\tImplementation/nn of/in Georgia's/np$ automobile/nn title/nn law/nn was/bedz also/rb recommended/vbn by/in the/at outgoing/jj jury/nn ./.\n\n 4 ==================\n\n\n\n\tIt/pps urged/vbd that/cs the/at next/ap Legislature/nn-tl ``/`` provide/vb enabling/vbg funds/nns and/cc re-set/vb the/at effective/jj date/nn so/cs that/cs an/at orderly/jj implementation/nn of/in the/at law/nn may/md be/be effected/vbn ''/'' ./.\n\n\n\tThe/at grand/jj jury/nn took/vbd a/at swipe/nn at/in the/at State/nn-tl Welfare/nn-tl Department's/nn$-tl handling/nn of/in federal/jj funds/nns granted/vbn for/in child/nn welfare/nn services/nns in/in foster/jj homes/nns ./.\n\n\n\t``/`` This/dt is/bez one/cd of/in the/at major/jj items/nns in/in the/at Fulton/np-tl County/nn-tl general/jj assistance/nn program/nn ''/'' ,/, the/at jury/nn said/vbd ,/, but/cc the/at State/nn-tl Welfare/nn-tl Department/nn-tl ``/`` has/hvz seen/vbn fit/jj to/to distribute/vb these/dts funds/nns through/in the/at welfare/nn departments/nns of/in all/abn the/at counties/nns in/in the/at state/nn with/in the/at exception/nn of/in Fulton/np-tl County/nn-tl ,/, which/wdt receives/vbz none/pn of/in this/dt money/nn ./.\n\n\n\tThe/at jurors/nns said/vbd they/ppss realize/vb ``/`` a/at proportionate/jj distribution/nn of\n"
    }
   ],
   "source": [
    "# Display topic segmented text\n",
    "Segmented_text = tt.tokenize(text)\n",
    "for segment_id, segment  in enumerate(Segmented_text):\n",
    "    print(\"\\n\", segment_id+1, \"==================\")\n",
    "    print(segment)"
   ]
  },
  {
   "cell_type": "code",
   "execution_count": 7,
   "metadata": {},
   "outputs": [],
   "source": [
    "# Get model's scores & boundaries \n",
    "DEMO_MODE = True \n",
    "tt_demo = TextTilingTokenizer(w=NB_WORDS_IN_PSEUDOSENT, k=NB_PSEUDOSENT_IN_BLOCKS, similarity_method=BLOCK_COMPARISON, demo_mode=DEMO_MODE) "
   ]
  },
  {
   "cell_type": "code",
   "execution_count": 8,
   "metadata": {
    "tags": []
   },
   "outputs": [
    {
     "output_type": "stream",
     "name": "stdout",
     "text": "(textTiling duration) 0.07294702529907227 sec\n"
    }
   ],
   "source": [
    "# apply to text  \n",
    "tic = time.time()\n",
    "a,b,c,boundaries = tt_demo.tokenize(text)\n",
    "toc = time.time()\n",
    "print('(textTiling duration)', toc-tic,'sec')"
   ]
  },
  {
   "cell_type": "markdown",
   "metadata": {},
   "source": []
  },
  {
   "cell_type": "code",
   "execution_count": 9,
   "metadata": {
    "tags": []
   },
   "outputs": [
    {
     "output_type": "stream",
     "name": "stdout",
     "text": "[0, 0, 0, 0, 0, 1, 0, 0, 0, 0, 0, 0, 1, 0, 0, 0, 1, 0, 0, 0, 0]\n"
    }
   ],
   "source": [
    "# display segmented topic block boundaries\n",
    "print(boundaries)"
   ]
  },
  {
   "cell_type": "markdown",
   "metadata": {},
   "source": [
    "# Explain"
   ]
  },
  {
   "cell_type": "markdown",
   "metadata": {},
   "source": [
    "* The text is divided into blocks of `k` same-size pseudo-sentences (`w` words each).\n",
    "> Example: A text sample of `n`=1,000 characters is divided into `5` (`n`/`k`*`w`) blocks of `k`=10 pseudosentences \\* `w`=20 words "
   ]
  },
  {
   "cell_type": "code",
   "execution_count": 10,
   "metadata": {
    "tags": []
   },
   "outputs": [
    {
     "output_type": "stream",
     "name": "stdout",
     "text": "Nb of pseudo-sentences: 40\n\n [('The', 3), ('at', 7), ('Fulton', 10), ('np', 17), ('tl', 20), ('County', 23), ('nn', 30), ('tl', 33), ('Grand', 36), ('jj', 42), ('tl', 45), ('Jury', 48), ('nn', 53), ('tl', 56), ('said', 59), ('vbd', 64), ('Friday', 68), ('nr', 75), ('an', 78), ('at', 81)]\nNb of words (w): 20\n\n [('investigation', 84), ('nn', 98), ('of', 101), ('in', 104), ('Atlanta', 107), ('s', 115), ('np', 117), ('recent', 121), ('jj', 128), ('primary', 131), ('nn', 139), ('election', 142), ('nn', 151), ('produced', 154), ('vbd', 163), ('no', 173), ('at', 176), ('evidence', 179), ('nn', 188), ('that', 197)]\nNb of words (w): 20\n\n....\n\n[('dt', 3887), ('money', 3890), ('nn', 3896), ('The', 3906), ('at', 3910), ('jurors', 3913), ('nns', 3920), ('said', 3924), ('vbd', 3929), ('they', 3933), ('ppss', 3938), ('realize', 3943), ('vb', 3951), ('a', 3960), ('at', 3962), ('proportionate', 3965), ('jj', 3979), ('distribution', 3982), ('nn', 3995), ('of', 3998)]\nNb of words (w): 20\n"
    }
   ],
   "source": [
    "# Display examples pseudo-sentences  \n",
    "print(\"Nb of pseudo-sentences:\", len(tt._divide_to_tokensequences(text)))\n",
    "print(\"\\n\", tt._divide_to_tokensequences(text)[0].wrdindex_list)\n",
    "print(\"Nb of words (w):\",len(tt._divide_to_tokensequences(text)[0].wrdindex_list))\n",
    "print(\"\\n\", tt._divide_to_tokensequences(text)[1].wrdindex_list)\n",
    "print(\"Nb of words (w):\", len(tt._divide_to_tokensequences(text)[1].wrdindex_list))\n",
    "print(\"\\n....\\n\")\n",
    "print(tt._divide_to_tokensequences(text)[-1].wrdindex_list)\n",
    "print(\"Nb of words (w):\", len(tt._divide_to_tokensequences(text)[-1].wrdindex_list))"
   ]
  },
  {
   "cell_type": "code",
   "execution_count": 11,
   "metadata": {
    "tags": []
   },
   "outputs": [
    {
     "output_type": "stream",
     "name": "stdout",
     "text": "\n 0 [('The', 3), ('at', 7), ('Fulton', 10), ('np', 17), ('tl', 20), ('County', 23), ('nn', 30), ('tl', 33), ('Grand', 36), ('jj', 42), ('tl', 45), ('Jury', 48), ('nn', 53), ('tl', 56), ('said', 59), ('vbd', 64), ('Friday', 68), ('nr', 75), ('an', 78), ('at', 81)]\n\n 1 [('investigation', 84), ('nn', 98), ('of', 101), ('in', 104), ('Atlanta', 107), ('s', 115), ('np', 117), ('recent', 121), ('jj', 128), ('primary', 131), ('nn', 139), ('election', 142), ('nn', 151), ('produced', 154), ('vbd', 163), ('no', 173), ('at', 176), ('evidence', 179), ('nn', 188), ('that', 197)]\n\n 2 [('cs', 202), ('any', 205), ('dti', 209), ('irregularities', 213), ('nns', 228), ('took', 232), ('vbd', 237), ('place', 241), ('nn', 247), ('The', 257), ('at', 261), ('jury', 264), ('nn', 269), ('further', 272), ('rbr', 280), ('said', 284), ('vbd', 289), ('in', 293), ('in', 296), ('term', 299)]\n\n 3 [('end', 304), ('nn', 308), ('presentments', 311), ('nns', 324), ('that', 328), ('cs', 333), ('the', 336), ('at', 340), ('City', 343), ('nn', 348), ('tl', 351), ('Executive', 354), ('jj', 364), ('tl', 367), ('Committee', 370), ('nn', 380), ('tl', 383), ('which', 390), ('wdt', 396), ('had', 400)]\n\n 4 [('hvd', 404), ('over', 408), ('all', 413), ('jj', 417), ('charge', 420), ('nn', 427), ('of', 430), ('in', 433), ('the', 436), ('at', 440), ('election', 443), ('nn', 452), ('deserves', 465), ('vbz', 474), ('the', 478), ('at', 482), ('praise', 485), ('nn', 492), ('and', 495), ('cc', 499)]\n\n 5 [('thanks', 502), ('nns', 509), ('of', 513), ('in', 516), ('the', 519), ('at', 523), ('City', 526), ('nn', 531), ('tl', 534), ('of', 537), ('in', 540), ('tl', 543), ('Atlanta', 546), ('np', 554), ('tl', 557), ('for', 566), ('in', 570), ('the', 573), ('at', 577), ('manner', 580)]\n\n 6 [('nn', 587), ('in', 590), ('in', 593), ('which', 596), ('wdt', 602), ('the', 606), ('at', 610), ('election', 613), ('nn', 622), ('was', 625), ('bedz', 629), ('conducted', 634), ('vbn', 644), ('The', 655), ('at', 659), ('September', 662), ('October', 672), ('np', 680), ('term', 683), ('nn', 688)]\n\n 7 [('jury', 691), ('nn', 696), ('had', 699), ('hvd', 703), ('been', 707), ('ben', 712), ('charged', 716), ('vbn', 724), ('by', 728), ('in', 731), ('Fulton', 734), ('np', 741), ('tl', 744), ('Superior', 747), ('jj', 756), ('tl', 759), ('Court', 762), ('nn', 768), ('tl', 771), ('Judge', 774)]\n\n 8 [('nn', 780), ('tl', 783), ('Durwood', 786), ('np', 794), ('Pye', 797), ('np', 801), ('to', 804), ('to', 807), ('investigate', 810), ('vb', 822), ('reports', 825), ('nns', 833), ('of', 837), ('in', 840), ('possible', 843), ('jj', 852), ('irregularities', 861), ('nns', 876), ('in', 886), ('in', 889)]\n\n 9 [('the', 892), ('at', 896), ('hard', 899), ('fought', 904), ('jj', 911), ('primary', 914), ('nn', 922), ('which', 925), ('wdt', 931), ('was', 935), ('bedz', 939), ('won', 944), ('vbn', 948), ('by', 952), ('in', 955), ('Mayor', 958), ('nominate', 964), ('nn', 973), ('tl', 976), ('Ivan', 979)]\n"
    },
    {
     "output_type": "execute_result",
     "data": {
      "text/plain": "[None, None, None, None, None, None, None, None, None, None]"
     },
     "metadata": {},
     "execution_count": 11
    }
   ],
   "source": [
    "# Display example of first block  \n",
    "first_block = tt._divide_to_tokensequences(text)[:NB_PSEUDOSENT_IN_BLOCKS]\n",
    "[print('\\n',ix, block.wrdindex_list) for ix,block in enumerate(first_block)]"
   ]
  },
  {
   "cell_type": "code",
   "execution_count": 12,
   "metadata": {
    "tags": []
   },
   "outputs": [
    {
     "output_type": "stream",
     "name": "stdout",
     "text": "\n 0 [('The', 3), ('at', 7), ('Fulton', 10), ('np', 17), ('tl', 20), ('County', 23), ('nn', 30), ('tl', 33), ('Grand', 36), ('jj', 42), ('tl', 45), ('Jury', 48), ('nn', 53), ('tl', 56), ('said', 59), ('vbd', 64), ('Friday', 68), ('nr', 75), ('an', 78), ('at', 81)]\n\n 1 [('investigation', 84), ('nn', 98), ('of', 101), ('in', 104), ('Atlanta', 107), ('s', 115), ('np', 117), ('recent', 121), ('jj', 128), ('primary', 131), ('nn', 139), ('election', 142), ('nn', 151), ('produced', 154), ('vbd', 163), ('no', 173), ('at', 176), ('evidence', 179), ('nn', 188), ('that', 197)]\n\n 2 [('cs', 202), ('any', 205), ('dti', 209), ('irregularities', 213), ('nns', 228), ('took', 232), ('vbd', 237), ('place', 241), ('nn', 247), ('The', 257), ('at', 261), ('jury', 264), ('nn', 269), ('further', 272), ('rbr', 280), ('said', 284), ('vbd', 289), ('in', 293), ('in', 296), ('term', 299)]\n\n 3 [('end', 304), ('nn', 308), ('presentments', 311), ('nns', 324), ('that', 328), ('cs', 333), ('the', 336), ('at', 340), ('City', 343), ('nn', 348), ('tl', 351), ('Executive', 354), ('jj', 364), ('tl', 367), ('Committee', 370), ('nn', 380), ('tl', 383), ('which', 390), ('wdt', 396), ('had', 400)]\n\n 4 [('hvd', 404), ('over', 408), ('all', 413), ('jj', 417), ('charge', 420), ('nn', 427), ('of', 430), ('in', 433), ('the', 436), ('at', 440), ('election', 443), ('nn', 452), ('deserves', 465), ('vbz', 474), ('the', 478), ('at', 482), ('praise', 485), ('nn', 492), ('and', 495), ('cc', 499)]\n\n 5 [('thanks', 502), ('nns', 509), ('of', 513), ('in', 516), ('the', 519), ('at', 523), ('City', 526), ('nn', 531), ('tl', 534), ('of', 537), ('in', 540), ('tl', 543), ('Atlanta', 546), ('np', 554), ('tl', 557), ('for', 566), ('in', 570), ('the', 573), ('at', 577), ('manner', 580)]\n\n 6 [('nn', 587), ('in', 590), ('in', 593), ('which', 596), ('wdt', 602), ('the', 606), ('at', 610), ('election', 613), ('nn', 622), ('was', 625), ('bedz', 629), ('conducted', 634), ('vbn', 644), ('The', 655), ('at', 659), ('September', 662), ('October', 672), ('np', 680), ('term', 683), ('nn', 688)]\n\n 7 [('jury', 691), ('nn', 696), ('had', 699), ('hvd', 703), ('been', 707), ('ben', 712), ('charged', 716), ('vbn', 724), ('by', 728), ('in', 731), ('Fulton', 734), ('np', 741), ('tl', 744), ('Superior', 747), ('jj', 756), ('tl', 759), ('Court', 762), ('nn', 768), ('tl', 771), ('Judge', 774)]\n\n 8 [('nn', 780), ('tl', 783), ('Durwood', 786), ('np', 794), ('Pye', 797), ('np', 801), ('to', 804), ('to', 807), ('investigate', 810), ('vb', 822), ('reports', 825), ('nns', 833), ('of', 837), ('in', 840), ('possible', 843), ('jj', 852), ('irregularities', 861), ('nns', 876), ('in', 886), ('in', 889)]\n\n 9 [('the', 892), ('at', 896), ('hard', 899), ('fought', 904), ('jj', 911), ('primary', 914), ('nn', 922), ('which', 925), ('wdt', 931), ('was', 935), ('bedz', 939), ('won', 944), ('vbn', 948), ('by', 952), ('in', 955), ('Mayor', 958), ('nominate', 964), ('nn', 973), ('tl', 976), ('Ivan', 979)]\n"
    },
    {
     "output_type": "execute_result",
     "data": {
      "text/plain": "[None, None, None, None, None, None, None, None, None, None]"
     },
     "metadata": {},
     "execution_count": 12
    }
   ],
   "source": [
    "# Display example of first block    \n",
    "first_block = tt._divide_to_tokensequences(text)[:NB_PSEUDOSENT_IN_BLOCKS]\n",
    "[print('\\n',ix, block.wrdindex_list) for ix,block in enumerate(first_block)]"
   ]
  },
  {
   "cell_type": "code",
   "execution_count": 13,
   "metadata": {
    "tags": []
   },
   "outputs": [
    {
     "output_type": "stream",
     "name": "stdout",
     "text": "[[['The', 'Fulton', 'County', 'Grand', 'Jury', 'said', 'Friday', 'an', 'investigation', 'of', \"Atlanta's\", 'recent', 'primary', 'election', 'produced', '``', 'no', 'evidence', \"''\", 'that', 'any', 'irregularities', 'took', 'place', '.']], [['The', 'jury', 'further', 'said', 'in', 'term-end', 'presentments', 'that', 'the', 'City', 'Executive', 'Committee', ',', 'which', 'had', 'over-all', 'charge', 'of', 'the', 'election', ',', '``', 'deserves', 'the', 'praise', 'and', 'thanks', 'of', 'the', 'City', 'of', 'Atlanta', \"''\", 'for', 'the', 'manner', 'in', 'which', 'the', 'election', 'was', 'conducted', '.']]]\n"
    }
   ],
   "source": [
    "#\n",
    "nb_paragraphs = len(b)\n",
    "nb_to_show = 2\n",
    "print(brown.paras()[:nb_paragraphs][:nb_to_show])"
   ]
  },
  {
   "cell_type": "markdown",
   "metadata": {},
   "source": [
    "## References\n",
    "https://www.nltk.org/book/ch05.html    \n",
    "    see 2.7 Unsimplified Tags  \n",
    "https://www.cl.cam.ac.uk/teaching/1011/L104/lec10-2x2.pdf  "
   ]
  },
  {
   "cell_type": "code",
   "execution_count": null,
   "metadata": {},
   "outputs": [],
   "source": []
  }
 ]
}